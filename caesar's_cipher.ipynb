{
  "nbformat": 4,
  "nbformat_minor": 0,
  "metadata": {
    "colab": {
      "provenance": []
    },
    "kernelspec": {
      "name": "python3",
      "display_name": "Python 3"
    },
    "language_info": {
      "name": "python"
    }
  },
  "cells": [
    {
      "cell_type": "code",
      "execution_count": null,
      "metadata": {
        "colab": {
          "base_uri": "https://localhost:8080/"
        },
        "id": "Q703D5vObgJS",
        "outputId": "b0bb0ac2-2059-4fbb-dafe-beea4e86c54f"
      },
      "outputs": [
        {
          "output_type": "stream",
          "name": "stdout",
          "text": [
            "Enter the text to encrypt: cryptography\n",
            "Enter the shift key: 7\n",
            "Encrypted text: jyfwavnyhwof\n"
          ]
        }
      ],
      "source": [
        "def caesar_cipher(text, key):\n",
        "    result = ''\n",
        "\n",
        "    for char in text:\n",
        "        if char.isalpha():\n",
        "            shift = key % 26\n",
        "            if char.islower():\n",
        "                shifted_char = chr(((ord(char) - ord('a') + shift) % 26) + ord('a'))\n",
        "            else:\n",
        "                shifted_char = chr(((ord(char) - ord('A') + shift) % 26) + ord('A'))\n",
        "            result += shifted_char\n",
        "        else:\n",
        "            result += char\n",
        "\n",
        "    return result\n",
        "\n",
        "plaintext = input(\"Enter the text to encrypt: \")\n",
        "shift_key = int(input(\"Enter the shift key: \"))\n",
        "\n",
        "ciphertext = caesar_cipher(plaintext, shift_key)\n",
        "print(\"Encrypted text:\", ciphertext)"
      ]
    }
  ]
}