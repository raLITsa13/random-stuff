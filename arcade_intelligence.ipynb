{
  "nbformat": 4,
  "nbformat_minor": 0,
  "metadata": {
    "colab": {
      "provenance": [],
      "gpuType": "T4"
    },
    "kernelspec": {
      "name": "python3",
      "display_name": "Python 3"
    },
    "language_info": {
      "name": "python"
    },
    "accelerator": "GPU"
  },
  "cells": [
    {
      "cell_type": "code",
      "execution_count": null,
      "metadata": {
        "id": "EjepJq-SAudL"
      },
      "outputs": [],
      "source": []
    },
    {
      "cell_type": "markdown",
      "source": [
        "ANN\n"
      ],
      "metadata": {
        "id": "oRvtDNEbBvGG"
      }
    },
    {
      "cell_type": "code",
      "source": [
        "import tensorflow as tf\n",
        "from tensorflow import keras\n",
        "import matplotlib.pyplot as plt\n",
        "import numpy as np"
      ],
      "metadata": {
        "id": "xFXq0z55CBc3"
      },
      "execution_count": null,
      "outputs": []
    },
    {
      "cell_type": "code",
      "source": [
        "(x_train,y_train),(x_test,y_test)=tf.keras.datasets.fashion_mnist.load_data()"
      ],
      "metadata": {
        "id": "V2kV1k7VCUEp"
      },
      "execution_count": null,
      "outputs": []
    },
    {
      "cell_type": "code",
      "source": [
        "import sklearn\n",
        "from sklearn.model_selection import train_test_split\n",
        "\n",
        "x_train,x_val,y_train,y_val= train_test_split(x_train,y_train,test_size=0.10,random_state=1)"
      ],
      "metadata": {
        "id": "CnESNGVSCj3T"
      },
      "execution_count": null,
      "outputs": []
    },
    {
      "cell_type": "code",
      "source": [
        "x_train= x_train.reshape(54000,28,28,1)\n",
        "x_test=x_test.reshape(10000,28,28,1)\n",
        "x_val=x_val.reshape(6000,28,28,1)"
      ],
      "metadata": {
        "id": "9ueBP4jKCz2m"
      },
      "execution_count": null,
      "outputs": []
    },
    {
      "cell_type": "code",
      "source": [
        "label=['T-shirt/top', 'Trouser', 'Pullover', 'Dress', 'Coat', 'Sandal', 'Shirt', 'Sneaker', 'Bag', 'Ankel-boot']"
      ],
      "metadata": {
        "id": "olWKC08UEO2B"
      },
      "execution_count": null,
      "outputs": []
    },
    {
      "cell_type": "code",
      "source": [
        "model2= tf.keras.models.Sequential()"
      ],
      "metadata": {
        "id": "r72x0PuPEnDt"
      },
      "execution_count": null,
      "outputs": []
    },
    {
      "cell_type": "code",
      "source": [
        "model2.add(keras.layers.Flatten(input_shape= x_train[0].shape))#input layer\n",
        "model2.add(keras.layers.Dense(532, activation='relu'))#hidden layer;also called hyperparameter\n",
        "model2.add(keras.layers.Dense(10, activation= 'Softmax'))#output layer(10 layers)"
      ],
      "metadata": {
        "id": "LhyUuwwwGCKc"
      },
      "execution_count": null,
      "outputs": []
    },
    {
      "cell_type": "code",
      "source": [
        "#\n",
        "model2.compile(optimizer='SGD', loss= tf.keras.losses.SparseCategoricalCrossentropy(),metrics=['accuracy'])\n"
      ],
      "metadata": {
        "id": "4N-t9SJVG1kr"
      },
      "execution_count": null,
      "outputs": []
    },
    {
      "cell_type": "code",
      "source": [
        "history= model2.fit(x_test,y_test, validation_data=(x_val,y_val), epochs= 20)"
      ],
      "metadata": {
        "colab": {
          "base_uri": "https://localhost:8080/"
        },
        "id": "V6UKuOBfH8aX",
        "outputId": "3456a465-08d4-431e-b4fb-9847445046db"
      },
      "execution_count": null,
      "outputs": [
        {
          "output_type": "stream",
          "name": "stdout",
          "text": [
            "Epoch 1/20\n",
            "313/313 [==============================] - 7s 6ms/step - loss: 2.2173 - accuracy: 0.1801 - val_loss: 2.1142 - val_accuracy: 0.2020\n",
            "Epoch 2/20\n",
            "313/313 [==============================] - 1s 4ms/step - loss: 2.0663 - accuracy: 0.1839 - val_loss: 1.9728 - val_accuracy: 0.2018\n",
            "Epoch 3/20\n",
            "313/313 [==============================] - 2s 5ms/step - loss: 2.1243 - accuracy: 0.1560 - val_loss: 2.3482 - val_accuracy: 0.1007\n",
            "Epoch 4/20\n",
            "313/313 [==============================] - 2s 6ms/step - loss: 2.3138 - accuracy: 0.0983 - val_loss: 2.3040 - val_accuracy: 0.1007\n",
            "Epoch 5/20\n",
            "313/313 [==============================] - 2s 5ms/step - loss: 2.3034 - accuracy: 0.0983 - val_loss: 2.3027 - val_accuracy: 0.1035\n",
            "Epoch 6/20\n",
            "313/313 [==============================] - 2s 5ms/step - loss: 2.3030 - accuracy: 0.0920 - val_loss: 2.3027 - val_accuracy: 0.0980\n",
            "Epoch 7/20\n",
            "313/313 [==============================] - 1s 4ms/step - loss: 2.3031 - accuracy: 0.0959 - val_loss: 2.3029 - val_accuracy: 0.0933\n",
            "Epoch 8/20\n",
            "313/313 [==============================] - 1s 4ms/step - loss: 2.3031 - accuracy: 0.0954 - val_loss: 2.3027 - val_accuracy: 0.0980\n",
            "Epoch 9/20\n",
            "313/313 [==============================] - 2s 5ms/step - loss: 2.3032 - accuracy: 0.0923 - val_loss: 2.3026 - val_accuracy: 0.1045\n",
            "Epoch 10/20\n",
            "313/313 [==============================] - 1s 4ms/step - loss: 2.3031 - accuracy: 0.0978 - val_loss: 2.3026 - val_accuracy: 0.0985\n",
            "Epoch 11/20\n",
            "313/313 [==============================] - 2s 5ms/step - loss: 2.3031 - accuracy: 0.0910 - val_loss: 2.3027 - val_accuracy: 0.0980\n",
            "Epoch 12/20\n",
            "313/313 [==============================] - 2s 6ms/step - loss: 2.3031 - accuracy: 0.0934 - val_loss: 2.3028 - val_accuracy: 0.0985\n",
            "Epoch 13/20\n",
            "313/313 [==============================] - 2s 5ms/step - loss: 2.3031 - accuracy: 0.0987 - val_loss: 2.3027 - val_accuracy: 0.0985\n",
            "Epoch 14/20\n",
            "313/313 [==============================] - 1s 4ms/step - loss: 2.3032 - accuracy: 0.0953 - val_loss: 2.3027 - val_accuracy: 0.0985\n",
            "Epoch 15/20\n",
            "313/313 [==============================] - 1s 4ms/step - loss: 2.3031 - accuracy: 0.0928 - val_loss: 2.3025 - val_accuracy: 0.1035\n",
            "Epoch 16/20\n",
            "313/313 [==============================] - 2s 5ms/step - loss: 2.3030 - accuracy: 0.0975 - val_loss: 2.3026 - val_accuracy: 0.1045\n",
            "Epoch 17/20\n",
            "313/313 [==============================] - 2s 5ms/step - loss: 2.3031 - accuracy: 0.0960 - val_loss: 2.3026 - val_accuracy: 0.0972\n",
            "Epoch 18/20\n",
            "313/313 [==============================] - 1s 5ms/step - loss: 2.3032 - accuracy: 0.0956 - val_loss: 2.3028 - val_accuracy: 0.0972\n",
            "Epoch 19/20\n",
            "313/313 [==============================] - 2s 6ms/step - loss: 2.3031 - accuracy: 0.0984 - val_loss: 2.3025 - val_accuracy: 0.1035\n",
            "Epoch 20/20\n",
            "313/313 [==============================] - 2s 5ms/step - loss: 2.3032 - accuracy: 0.0923 - val_loss: 2.3026 - val_accuracy: 0.1035\n"
          ]
        }
      ]
    },
    {
      "cell_type": "code",
      "source": [
        "model2.evaluate(x_test,y_test,verbose='1')"
      ],
      "metadata": {
        "colab": {
          "base_uri": "https://localhost:8080/"
        },
        "id": "DQrYOp3zJbOc",
        "outputId": "3e2b29ca-defd-4e0e-8ac7-098cbda07316"
      },
      "execution_count": null,
      "outputs": [
        {
          "output_type": "execute_result",
          "data": {
            "text/plain": [
              "[2.3026134967803955, 0.10000000149011612]"
            ]
          },
          "metadata": {},
          "execution_count": 15
        }
      ]
    },
    {
      "cell_type": "code",
      "source": [
        "model2.save(\"model2.hdf5\")"
      ],
      "metadata": {
        "colab": {
          "base_uri": "https://localhost:8080/"
        },
        "id": "g-nYnyB6K5w6",
        "outputId": "c49a19a5-f3e2-46ce-e528-1188a96e39db"
      },
      "execution_count": null,
      "outputs": [
        {
          "output_type": "stream",
          "name": "stderr",
          "text": [
            "/usr/local/lib/python3.10/dist-packages/keras/src/engine/training.py:3000: UserWarning: You are saving your model as an HDF5 file via `model.save()`. This file format is considered legacy. We recommend using instead the native Keras format, e.g. `model.save('my_model.keras')`.\n",
            "  saving_api.save_model(\n"
          ]
        }
      ]
    },
    {
      "cell_type": "code",
      "source": [],
      "metadata": {
        "id": "Rs46cRQrLbve"
      },
      "execution_count": null,
      "outputs": []
    }
  ]
}